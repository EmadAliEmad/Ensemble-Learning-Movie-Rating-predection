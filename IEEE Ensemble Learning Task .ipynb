{
 "cells": [
  {
   "cell_type": "code",
   "execution_count": 27,
   "id": "b6ccf275",
   "metadata": {},
   "outputs": [],
   "source": [
    "from keras.datasets import imdb\n",
    "from sklearn.model_selection import train_test_split\n",
    "from sklearn.tree import DecisionTreeClassifier\n",
    "from sklearn.ensemble import RandomForestClassifier, GradientBoostingClassifier\n",
    "from sklearn.metrics import accuracy_score\n",
    "\n",
    "from tensorflow.keras.preprocessing.sequence import pad_sequences\n",
    "from sklearn.ensemble import VotingClassifier"
   ]
  },
  {
   "cell_type": "code",
   "execution_count": 12,
   "id": "24d02bc1",
   "metadata": {},
   "outputs": [],
   "source": [
    "# Load the IMDB dataset\n",
    "(X_train, y_train), (X_test, y_test) = imdb.load_data(num_words=5000)"
   ]
  },
  {
   "cell_type": "code",
   "execution_count": 13,
   "id": "6cecdcde",
   "metadata": {},
   "outputs": [],
   "source": [
    "# Pad the sequences to have a fixed length\n",
    "maxlen = 100  # or any other desired length\n",
    "X_train = pad_sequences(X_train, maxlen=maxlen)\n",
    "X_test = pad_sequences(X_test, maxlen=maxlen)"
   ]
  },
  {
   "cell_type": "code",
   "execution_count": 14,
   "id": "d4ee749b",
   "metadata": {},
   "outputs": [],
   "source": [
    "# Split the training data into train and validation sets\n",
    "X_train, X_val, y_train, y_val = train_test_split(X_train, y_train, test_size=0.2, random_state=42) "
   ]
  },
  {
   "cell_type": "code",
   "execution_count": 15,
   "id": "8c6be317",
   "metadata": {},
   "outputs": [],
   "source": [
    "# Define the 3 base models\n",
    "dt = DecisionTreeClassifier()\n",
    "rf = RandomForestClassifier(n_estimators=100)\n",
    "gb = GradientBoostingClassifier(n_estimators=100)"
   ]
  },
  {
   "cell_type": "code",
   "execution_count": 16,
   "id": "47b13e8f",
   "metadata": {
    "scrolled": true
   },
   "outputs": [
    {
     "data": {
      "text/plain": [
       "GradientBoostingClassifier()"
      ]
     },
     "execution_count": 16,
     "metadata": {},
     "output_type": "execute_result"
    }
   ],
   "source": [
    "# Fit the base models on the training data\n",
    "dt.fit(X_train, y_train)\n",
    "rf.fit(X_train, y_train)  \n",
    "gb.fit(X_train, y_train)"
   ]
  },
  {
   "cell_type": "code",
   "execution_count": 20,
   "id": "9e3f80ab",
   "metadata": {},
   "outputs": [],
   "source": [
    "# Define the majority vote function\n",
    "def majority_vote(predictions):\n",
    "    \"\"\"\n",
    "    Given a list of predictions, returns the most common prediction.\n",
    "    \"\"\"\n",
    "    return max(set(predictions), key=predictions.count)"
   ]
  },
  {
   "cell_type": "code",
   "execution_count": 21,
   "id": "dc2b5e75",
   "metadata": {},
   "outputs": [],
   "source": [
    "# Make predictions on the validation set\n",
    "dt_preds = dt.predict(X_val)\n",
    "rf_preds = rf.predict(X_val)\n",
    "gb_preds = gb.predict(X_val)"
   ]
  },
  {
   "cell_type": "code",
   "execution_count": 22,
   "id": "757c8b07",
   "metadata": {
    "scrolled": true
   },
   "outputs": [],
   "source": [
    "# Ensemble by majority voting \n",
    "final_preds = []\n",
    "for i in range(len(X_val)):\n",
    "    pred = majority_vote([dt_preds[i], rf_preds[i], gb_preds[i]])\n",
    "    final_preds.append(pred)"
   ]
  },
  {
   "cell_type": "code",
   "execution_count": 23,
   "id": "141c4126",
   "metadata": {},
   "outputs": [
    {
     "name": "stdout",
     "output_type": "stream",
     "text": [
      "Ensemble Accuracy: 55.52%\n"
     ]
    }
   ],
   "source": [
    "# Evaluate the ensemble model\n",
    "accuracy = accuracy_score(y_val, final_preds)\n",
    "print(\"Ensemble Accuracy: %.2f%%\" % (accuracy*100.0))"
   ]
  },
  {
   "cell_type": "code",
   "execution_count": 28,
   "id": "51144cc8",
   "metadata": {
    "scrolled": true
   },
   "outputs": [],
   "source": []
  },
  {
   "cell_type": "code",
   "execution_count": 30,
   "id": "df15699f",
   "metadata": {},
   "outputs": [
    {
     "name": "stdout",
     "output_type": "stream",
     "text": [
      "Decision tree accuracy: 0.51588\n",
      "Random forest accuracy: 0.5308\n",
      "Gradient boosting accuracy: 0.5614\n",
      "Ensemble accuracy: 0.54616\n"
     ]
    }
   ],
   "source": [
    "# Evaluate the performance of the individual models and the ensemble\n",
    "print(\"Decision tree accuracy:\", accuracy_score(y_test, y_pred1))\n",
    "print(\"Random forest accuracy:\", accuracy_score(y_test, y_pred2))\n",
    "print(\"Gradient boosting accuracy:\", accuracy_score(y_test, y_pred3))\n",
    "print(\"Ensemble accuracy:\", accuracy_score(y_test, y_pred_ensemble))"
   ]
  },
  {
   "cell_type": "code",
   "execution_count": null,
   "id": "fc57341a",
   "metadata": {},
   "outputs": [],
   "source": []
  }
 ],
 "metadata": {
  "kernelspec": {
   "display_name": "Python 3 (ipykernel)",
   "language": "python",
   "name": "python3"
  },
  "language_info": {
   "codemirror_mode": {
    "name": "ipython",
    "version": 3
   },
   "file_extension": ".py",
   "mimetype": "text/x-python",
   "name": "python",
   "nbconvert_exporter": "python",
   "pygments_lexer": "ipython3",
   "version": "3.9.13"
  }
 },
 "nbformat": 4,
 "nbformat_minor": 5
}
